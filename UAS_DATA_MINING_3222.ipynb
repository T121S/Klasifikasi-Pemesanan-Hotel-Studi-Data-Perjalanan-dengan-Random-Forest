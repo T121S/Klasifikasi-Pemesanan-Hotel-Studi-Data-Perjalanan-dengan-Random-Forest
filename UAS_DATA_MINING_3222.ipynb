{
  "nbformat": 4,
  "nbformat_minor": 0,
  "metadata": {
    "colab": {
      "provenance": []
    },
    "kernelspec": {
      "name": "python3",
      "display_name": "Python 3"
    },
    "language_info": {
      "name": "python"
    }
  },
  "cells": [
    {
      "cell_type": "code",
      "execution_count": 22,
      "metadata": {
        "id": "X_aNGx7sSgIq"
      },
      "outputs": [],
      "source": [
        "import pandas as pd\n",
        "import numpy as np\n",
        "import seaborn as sns\n",
        "import matplotlib.pyplot as plt"
      ]
    },
    {
      "cell_type": "code",
      "source": [
        "df = pd.read_csv('/content/travel.csv').dropna()"
      ],
      "metadata": {
        "id": "jO4lrlZaTgt8"
      },
      "execution_count": 23,
      "outputs": []
    },
    {
      "cell_type": "code",
      "source": [
        "df.head(3)"
      ],
      "metadata": {
        "colab": {
          "base_uri": "https://localhost:8080/",
          "height": 314
        },
        "id": "8ZSmHs25VYTP",
        "outputId": "5c441439-2894-4f9e-b674-0c9598eb3066"
      },
      "execution_count": 24,
      "outputs": [
        {
          "output_type": "execute_result",
          "data": {
            "text/plain": [
              "   Unnamed: 0            date_time  site_name  posa_continent  \\\n",
              "0    24636210  2014-11-03 16:02:28         24               2   \n",
              "1    19837144  2013-03-13 19:25:01         11               3   \n",
              "2    13066459  2014-10-13 13:20:25          2               3   \n",
              "\n",
              "   user_location_country  user_location_region  user_location_city  \\\n",
              "0                     77                   871               36643   \n",
              "1                    205                   135               38749   \n",
              "2                     66                   314               48562   \n",
              "\n",
              "   orig_destination_distance  user_id  is_mobile  ...  srch_children_cnt  \\\n",
              "0                   456.1151   792280          0  ...                  0   \n",
              "1                   232.4737   961995          0  ...                  0   \n",
              "2                  4468.2720   495669          0  ...                  0   \n",
              "\n",
              "   srch_rm_cnt srch_destination_id srch_destination_type_id  is_booking  cnt  \\\n",
              "0            1                8286                        1           0    1   \n",
              "1            1                1842                        3           0    1   \n",
              "2            1                8746                        1           0    1   \n",
              "\n",
              "   hotel_continent  hotel_country  hotel_market  hotel_cluster  \n",
              "0                0             63          1258             68  \n",
              "1                2            198           786             37  \n",
              "2                6            105            29             22  \n",
              "\n",
              "[3 rows x 25 columns]"
            ],
            "text/html": [
              "\n",
              "  <div id=\"df-51874ae3-5a8d-4a02-9eb9-9be7373b0bae\" class=\"colab-df-container\">\n",
              "    <div>\n",
              "<style scoped>\n",
              "    .dataframe tbody tr th:only-of-type {\n",
              "        vertical-align: middle;\n",
              "    }\n",
              "\n",
              "    .dataframe tbody tr th {\n",
              "        vertical-align: top;\n",
              "    }\n",
              "\n",
              "    .dataframe thead th {\n",
              "        text-align: right;\n",
              "    }\n",
              "</style>\n",
              "<table border=\"1\" class=\"dataframe\">\n",
              "  <thead>\n",
              "    <tr style=\"text-align: right;\">\n",
              "      <th></th>\n",
              "      <th>Unnamed: 0</th>\n",
              "      <th>date_time</th>\n",
              "      <th>site_name</th>\n",
              "      <th>posa_continent</th>\n",
              "      <th>user_location_country</th>\n",
              "      <th>user_location_region</th>\n",
              "      <th>user_location_city</th>\n",
              "      <th>orig_destination_distance</th>\n",
              "      <th>user_id</th>\n",
              "      <th>is_mobile</th>\n",
              "      <th>...</th>\n",
              "      <th>srch_children_cnt</th>\n",
              "      <th>srch_rm_cnt</th>\n",
              "      <th>srch_destination_id</th>\n",
              "      <th>srch_destination_type_id</th>\n",
              "      <th>is_booking</th>\n",
              "      <th>cnt</th>\n",
              "      <th>hotel_continent</th>\n",
              "      <th>hotel_country</th>\n",
              "      <th>hotel_market</th>\n",
              "      <th>hotel_cluster</th>\n",
              "    </tr>\n",
              "  </thead>\n",
              "  <tbody>\n",
              "    <tr>\n",
              "      <th>0</th>\n",
              "      <td>24636210</td>\n",
              "      <td>2014-11-03 16:02:28</td>\n",
              "      <td>24</td>\n",
              "      <td>2</td>\n",
              "      <td>77</td>\n",
              "      <td>871</td>\n",
              "      <td>36643</td>\n",
              "      <td>456.1151</td>\n",
              "      <td>792280</td>\n",
              "      <td>0</td>\n",
              "      <td>...</td>\n",
              "      <td>0</td>\n",
              "      <td>1</td>\n",
              "      <td>8286</td>\n",
              "      <td>1</td>\n",
              "      <td>0</td>\n",
              "      <td>1</td>\n",
              "      <td>0</td>\n",
              "      <td>63</td>\n",
              "      <td>1258</td>\n",
              "      <td>68</td>\n",
              "    </tr>\n",
              "    <tr>\n",
              "      <th>1</th>\n",
              "      <td>19837144</td>\n",
              "      <td>2013-03-13 19:25:01</td>\n",
              "      <td>11</td>\n",
              "      <td>3</td>\n",
              "      <td>205</td>\n",
              "      <td>135</td>\n",
              "      <td>38749</td>\n",
              "      <td>232.4737</td>\n",
              "      <td>961995</td>\n",
              "      <td>0</td>\n",
              "      <td>...</td>\n",
              "      <td>0</td>\n",
              "      <td>1</td>\n",
              "      <td>1842</td>\n",
              "      <td>3</td>\n",
              "      <td>0</td>\n",
              "      <td>1</td>\n",
              "      <td>2</td>\n",
              "      <td>198</td>\n",
              "      <td>786</td>\n",
              "      <td>37</td>\n",
              "    </tr>\n",
              "    <tr>\n",
              "      <th>2</th>\n",
              "      <td>13066459</td>\n",
              "      <td>2014-10-13 13:20:25</td>\n",
              "      <td>2</td>\n",
              "      <td>3</td>\n",
              "      <td>66</td>\n",
              "      <td>314</td>\n",
              "      <td>48562</td>\n",
              "      <td>4468.2720</td>\n",
              "      <td>495669</td>\n",
              "      <td>0</td>\n",
              "      <td>...</td>\n",
              "      <td>0</td>\n",
              "      <td>1</td>\n",
              "      <td>8746</td>\n",
              "      <td>1</td>\n",
              "      <td>0</td>\n",
              "      <td>1</td>\n",
              "      <td>6</td>\n",
              "      <td>105</td>\n",
              "      <td>29</td>\n",
              "      <td>22</td>\n",
              "    </tr>\n",
              "  </tbody>\n",
              "</table>\n",
              "<p>3 rows × 25 columns</p>\n",
              "</div>\n",
              "    <div class=\"colab-df-buttons\">\n",
              "\n",
              "  <div class=\"colab-df-container\">\n",
              "    <button class=\"colab-df-convert\" onclick=\"convertToInteractive('df-51874ae3-5a8d-4a02-9eb9-9be7373b0bae')\"\n",
              "            title=\"Convert this dataframe to an interactive table.\"\n",
              "            style=\"display:none;\">\n",
              "\n",
              "  <svg xmlns=\"http://www.w3.org/2000/svg\" height=\"24px\" viewBox=\"0 -960 960 960\">\n",
              "    <path d=\"M120-120v-720h720v720H120Zm60-500h600v-160H180v160Zm220 220h160v-160H400v160Zm0 220h160v-160H400v160ZM180-400h160v-160H180v160Zm440 0h160v-160H620v160ZM180-180h160v-160H180v160Zm440 0h160v-160H620v160Z\"/>\n",
              "  </svg>\n",
              "    </button>\n",
              "\n",
              "  <style>\n",
              "    .colab-df-container {\n",
              "      display:flex;\n",
              "      gap: 12px;\n",
              "    }\n",
              "\n",
              "    .colab-df-convert {\n",
              "      background-color: #E8F0FE;\n",
              "      border: none;\n",
              "      border-radius: 50%;\n",
              "      cursor: pointer;\n",
              "      display: none;\n",
              "      fill: #1967D2;\n",
              "      height: 32px;\n",
              "      padding: 0 0 0 0;\n",
              "      width: 32px;\n",
              "    }\n",
              "\n",
              "    .colab-df-convert:hover {\n",
              "      background-color: #E2EBFA;\n",
              "      box-shadow: 0px 1px 2px rgba(60, 64, 67, 0.3), 0px 1px 3px 1px rgba(60, 64, 67, 0.15);\n",
              "      fill: #174EA6;\n",
              "    }\n",
              "\n",
              "    .colab-df-buttons div {\n",
              "      margin-bottom: 4px;\n",
              "    }\n",
              "\n",
              "    [theme=dark] .colab-df-convert {\n",
              "      background-color: #3B4455;\n",
              "      fill: #D2E3FC;\n",
              "    }\n",
              "\n",
              "    [theme=dark] .colab-df-convert:hover {\n",
              "      background-color: #434B5C;\n",
              "      box-shadow: 0px 1px 3px 1px rgba(0, 0, 0, 0.15);\n",
              "      filter: drop-shadow(0px 1px 2px rgba(0, 0, 0, 0.3));\n",
              "      fill: #FFFFFF;\n",
              "    }\n",
              "  </style>\n",
              "\n",
              "    <script>\n",
              "      const buttonEl =\n",
              "        document.querySelector('#df-51874ae3-5a8d-4a02-9eb9-9be7373b0bae button.colab-df-convert');\n",
              "      buttonEl.style.display =\n",
              "        google.colab.kernel.accessAllowed ? 'block' : 'none';\n",
              "\n",
              "      async function convertToInteractive(key) {\n",
              "        const element = document.querySelector('#df-51874ae3-5a8d-4a02-9eb9-9be7373b0bae');\n",
              "        const dataTable =\n",
              "          await google.colab.kernel.invokeFunction('convertToInteractive',\n",
              "                                                    [key], {});\n",
              "        if (!dataTable) return;\n",
              "\n",
              "        const docLinkHtml = 'Like what you see? Visit the ' +\n",
              "          '<a target=\"_blank\" href=https://colab.research.google.com/notebooks/data_table.ipynb>data table notebook</a>'\n",
              "          + ' to learn more about interactive tables.';\n",
              "        element.innerHTML = '';\n",
              "        dataTable['output_type'] = 'display_data';\n",
              "        await google.colab.output.renderOutput(dataTable, element);\n",
              "        const docLink = document.createElement('div');\n",
              "        docLink.innerHTML = docLinkHtml;\n",
              "        element.appendChild(docLink);\n",
              "      }\n",
              "    </script>\n",
              "  </div>\n",
              "\n",
              "\n",
              "<div id=\"df-f5c1a366-1625-4e05-949c-94deceecb3d6\">\n",
              "  <button class=\"colab-df-quickchart\" onclick=\"quickchart('df-f5c1a366-1625-4e05-949c-94deceecb3d6')\"\n",
              "            title=\"Suggest charts\"\n",
              "            style=\"display:none;\">\n",
              "\n",
              "<svg xmlns=\"http://www.w3.org/2000/svg\" height=\"24px\"viewBox=\"0 0 24 24\"\n",
              "     width=\"24px\">\n",
              "    <g>\n",
              "        <path d=\"M19 3H5c-1.1 0-2 .9-2 2v14c0 1.1.9 2 2 2h14c1.1 0 2-.9 2-2V5c0-1.1-.9-2-2-2zM9 17H7v-7h2v7zm4 0h-2V7h2v10zm4 0h-2v-4h2v4z\"/>\n",
              "    </g>\n",
              "</svg>\n",
              "  </button>\n",
              "\n",
              "<style>\n",
              "  .colab-df-quickchart {\n",
              "      --bg-color: #E8F0FE;\n",
              "      --fill-color: #1967D2;\n",
              "      --hover-bg-color: #E2EBFA;\n",
              "      --hover-fill-color: #174EA6;\n",
              "      --disabled-fill-color: #AAA;\n",
              "      --disabled-bg-color: #DDD;\n",
              "  }\n",
              "\n",
              "  [theme=dark] .colab-df-quickchart {\n",
              "      --bg-color: #3B4455;\n",
              "      --fill-color: #D2E3FC;\n",
              "      --hover-bg-color: #434B5C;\n",
              "      --hover-fill-color: #FFFFFF;\n",
              "      --disabled-bg-color: #3B4455;\n",
              "      --disabled-fill-color: #666;\n",
              "  }\n",
              "\n",
              "  .colab-df-quickchart {\n",
              "    background-color: var(--bg-color);\n",
              "    border: none;\n",
              "    border-radius: 50%;\n",
              "    cursor: pointer;\n",
              "    display: none;\n",
              "    fill: var(--fill-color);\n",
              "    height: 32px;\n",
              "    padding: 0;\n",
              "    width: 32px;\n",
              "  }\n",
              "\n",
              "  .colab-df-quickchart:hover {\n",
              "    background-color: var(--hover-bg-color);\n",
              "    box-shadow: 0 1px 2px rgba(60, 64, 67, 0.3), 0 1px 3px 1px rgba(60, 64, 67, 0.15);\n",
              "    fill: var(--button-hover-fill-color);\n",
              "  }\n",
              "\n",
              "  .colab-df-quickchart-complete:disabled,\n",
              "  .colab-df-quickchart-complete:disabled:hover {\n",
              "    background-color: var(--disabled-bg-color);\n",
              "    fill: var(--disabled-fill-color);\n",
              "    box-shadow: none;\n",
              "  }\n",
              "\n",
              "  .colab-df-spinner {\n",
              "    border: 2px solid var(--fill-color);\n",
              "    border-color: transparent;\n",
              "    border-bottom-color: var(--fill-color);\n",
              "    animation:\n",
              "      spin 1s steps(1) infinite;\n",
              "  }\n",
              "\n",
              "  @keyframes spin {\n",
              "    0% {\n",
              "      border-color: transparent;\n",
              "      border-bottom-color: var(--fill-color);\n",
              "      border-left-color: var(--fill-color);\n",
              "    }\n",
              "    20% {\n",
              "      border-color: transparent;\n",
              "      border-left-color: var(--fill-color);\n",
              "      border-top-color: var(--fill-color);\n",
              "    }\n",
              "    30% {\n",
              "      border-color: transparent;\n",
              "      border-left-color: var(--fill-color);\n",
              "      border-top-color: var(--fill-color);\n",
              "      border-right-color: var(--fill-color);\n",
              "    }\n",
              "    40% {\n",
              "      border-color: transparent;\n",
              "      border-right-color: var(--fill-color);\n",
              "      border-top-color: var(--fill-color);\n",
              "    }\n",
              "    60% {\n",
              "      border-color: transparent;\n",
              "      border-right-color: var(--fill-color);\n",
              "    }\n",
              "    80% {\n",
              "      border-color: transparent;\n",
              "      border-right-color: var(--fill-color);\n",
              "      border-bottom-color: var(--fill-color);\n",
              "    }\n",
              "    90% {\n",
              "      border-color: transparent;\n",
              "      border-bottom-color: var(--fill-color);\n",
              "    }\n",
              "  }\n",
              "</style>\n",
              "\n",
              "  <script>\n",
              "    async function quickchart(key) {\n",
              "      const quickchartButtonEl =\n",
              "        document.querySelector('#' + key + ' button');\n",
              "      quickchartButtonEl.disabled = true;  // To prevent multiple clicks.\n",
              "      quickchartButtonEl.classList.add('colab-df-spinner');\n",
              "      try {\n",
              "        const charts = await google.colab.kernel.invokeFunction(\n",
              "            'suggestCharts', [key], {});\n",
              "      } catch (error) {\n",
              "        console.error('Error during call to suggestCharts:', error);\n",
              "      }\n",
              "      quickchartButtonEl.classList.remove('colab-df-spinner');\n",
              "      quickchartButtonEl.classList.add('colab-df-quickchart-complete');\n",
              "    }\n",
              "    (() => {\n",
              "      let quickchartButtonEl =\n",
              "        document.querySelector('#df-f5c1a366-1625-4e05-949c-94deceecb3d6 button');\n",
              "      quickchartButtonEl.style.display =\n",
              "        google.colab.kernel.accessAllowed ? 'block' : 'none';\n",
              "    })();\n",
              "  </script>\n",
              "</div>\n",
              "\n",
              "    </div>\n",
              "  </div>\n"
            ],
            "application/vnd.google.colaboratory.intrinsic+json": {
              "type": "dataframe",
              "variable_name": "df"
            }
          },
          "metadata": {},
          "execution_count": 24
        }
      ]
    },
    {
      "cell_type": "code",
      "source": [
        "df.info()"
      ],
      "metadata": {
        "colab": {
          "base_uri": "https://localhost:8080/"
        },
        "id": "cwBAWRDtVZ5v",
        "outputId": "93a4bb87-240a-4ca6-aac6-6071bd4bd824"
      },
      "execution_count": 25,
      "outputs": [
        {
          "output_type": "stream",
          "name": "stdout",
          "text": [
            "<class 'pandas.core.frame.DataFrame'>\n",
            "Index: 63845 entries, 0 to 99999\n",
            "Data columns (total 25 columns):\n",
            " #   Column                     Non-Null Count  Dtype  \n",
            "---  ------                     --------------  -----  \n",
            " 0   Unnamed: 0                 63845 non-null  int64  \n",
            " 1   date_time                  63845 non-null  object \n",
            " 2   site_name                  63845 non-null  int64  \n",
            " 3   posa_continent             63845 non-null  int64  \n",
            " 4   user_location_country      63845 non-null  int64  \n",
            " 5   user_location_region       63845 non-null  int64  \n",
            " 6   user_location_city         63845 non-null  int64  \n",
            " 7   orig_destination_distance  63845 non-null  float64\n",
            " 8   user_id                    63845 non-null  int64  \n",
            " 9   is_mobile                  63845 non-null  int64  \n",
            " 10  is_package                 63845 non-null  int64  \n",
            " 11  channel                    63845 non-null  int64  \n",
            " 12  srch_ci                    63845 non-null  object \n",
            " 13  srch_co                    63845 non-null  object \n",
            " 14  srch_adults_cnt            63845 non-null  int64  \n",
            " 15  srch_children_cnt          63845 non-null  int64  \n",
            " 16  srch_rm_cnt                63845 non-null  int64  \n",
            " 17  srch_destination_id        63845 non-null  int64  \n",
            " 18  srch_destination_type_id   63845 non-null  int64  \n",
            " 19  is_booking                 63845 non-null  int64  \n",
            " 20  cnt                        63845 non-null  int64  \n",
            " 21  hotel_continent            63845 non-null  int64  \n",
            " 22  hotel_country              63845 non-null  int64  \n",
            " 23  hotel_market               63845 non-null  int64  \n",
            " 24  hotel_cluster              63845 non-null  int64  \n",
            "dtypes: float64(1), int64(21), object(3)\n",
            "memory usage: 12.7+ MB\n"
          ]
        }
      ]
    },
    {
      "cell_type": "markdown",
      "source": [
        "Data Preprocessing"
      ],
      "metadata": {
        "id": "vf2ColecYVIq"
      }
    },
    {
      "cell_type": "code",
      "source": [
        "df['srch_ci'].unique()"
      ],
      "metadata": {
        "colab": {
          "base_uri": "https://localhost:8080/"
        },
        "id": "GcYmljh0T4QF",
        "outputId": "5d9669c2-d5ae-49de-9308-0b6898a2cbf3"
      },
      "execution_count": 26,
      "outputs": [
        {
          "output_type": "execute_result",
          "data": {
            "text/plain": [
              "array(['2014-12-15', '2013-03-13', '2015-04-03', ..., '2015-12-12',\n",
              "       '2015-10-15', '2015-11-14'], dtype=object)"
            ]
          },
          "metadata": {},
          "execution_count": 26
        }
      ]
    },
    {
      "cell_type": "code",
      "source": [
        "df['is_booking'].unique()"
      ],
      "metadata": {
        "colab": {
          "base_uri": "https://localhost:8080/"
        },
        "id": "jtZkO9ecVckQ",
        "outputId": "69ff5941-efa3-4cf0-fb3b-4fd2aea1fcb2"
      },
      "execution_count": 27,
      "outputs": [
        {
          "output_type": "execute_result",
          "data": {
            "text/plain": [
              "array([0, 1])"
            ]
          },
          "metadata": {},
          "execution_count": 27
        }
      ]
    },
    {
      "cell_type": "code",
      "source": [
        "df['srch_co'].unique()"
      ],
      "metadata": {
        "colab": {
          "base_uri": "https://localhost:8080/"
        },
        "id": "SDQXEXZhVgk3",
        "outputId": "b57f216c-e5a6-4e59-907f-1f58550edb7c"
      },
      "execution_count": 28,
      "outputs": [
        {
          "output_type": "execute_result",
          "data": {
            "text/plain": [
              "array(['2014-12-19', '2013-03-14', '2015-04-10', ..., '2015-12-14',\n",
              "       '2015-10-16', '2015-11-20'], dtype=object)"
            ]
          },
          "metadata": {},
          "execution_count": 28
        }
      ]
    },
    {
      "cell_type": "code",
      "source": [
        "df['hotel_country'].unique()"
      ],
      "metadata": {
        "colab": {
          "base_uri": "https://localhost:8080/"
        },
        "id": "kO3t174rVjUu",
        "outputId": "bf7cfe7f-e62f-475b-f244-4b3b39b84d45"
      },
      "execution_count": 29,
      "outputs": [
        {
          "output_type": "execute_result",
          "data": {
            "text/plain": [
              "array([ 63, 198, 105,  50, 144,  77,   8, 169, 182,  84, 204, 163, 151,\n",
              "        82,   5,  47,  93,  70, 128, 194,  51, 208, 171,   0,  99, 106,\n",
              "       168,  48,  52,  22,  34, 130, 196, 146, 180,  96,  87, 104,  67,\n",
              "       107,  42,  98,  15,  68, 200,  32, 119,  31, 152, 203, 110, 132,\n",
              "         7,  46, 160, 162, 170, 115, 186,  21, 185, 121, 126, 118, 158,\n",
              "       135, 140, 159,  12, 127,  80, 211, 122,   1, 103, 136,  55, 157,\n",
              "        23,  13,  17, 199, 141,  92, 202, 124, 193,  57, 111,  35,  79,\n",
              "       125, 206, 174,  45, 131,  60, 112, 156, 100,   9, 108,  11, 197,\n",
              "        25, 153, 102,  78, 147,  53, 139,  81,  36, 212,  19,  89, 129,\n",
              "       161, 143,  88, 137, 179, 210,  58,   4,  44,  74,  73,  26,  61,\n",
              "       166,  28, 188,  24,  64,   3,  27,  10, 165,  72,  76, 116,  66,\n",
              "       192,  20, 114, 101, 201, 148,   2,  83, 154, 189, 181,  71,  38,\n",
              "        30,  14, 167,  18, 142])"
            ]
          },
          "metadata": {},
          "execution_count": 29
        }
      ]
    },
    {
      "cell_type": "code",
      "source": [
        "df['hotel_continent'].unique()"
      ],
      "metadata": {
        "colab": {
          "base_uri": "https://localhost:8080/"
        },
        "id": "tektC6XNVnbq",
        "outputId": "0dbf2ff3-bcc8-49d3-dddb-a1100e5be2d0"
      },
      "execution_count": 30,
      "outputs": [
        {
          "output_type": "execute_result",
          "data": {
            "text/plain": [
              "array([0, 2, 6, 4, 3, 5])"
            ]
          },
          "metadata": {},
          "execution_count": 30
        }
      ]
    },
    {
      "cell_type": "code",
      "source": [
        "df['hotel_market'].unique()"
      ],
      "metadata": {
        "colab": {
          "base_uri": "https://localhost:8080/"
        },
        "id": "C3LsMAMnVqiZ",
        "outputId": "b3169277-1819-476a-84f8-f33e9192eea2"
      },
      "execution_count": 31,
      "outputs": [
        {
          "output_type": "execute_result",
          "data": {
            "text/plain": [
              "array([1258,  786,   29, ..., 1161, 1962,  854])"
            ]
          },
          "metadata": {},
          "execution_count": 31
        }
      ]
    },
    {
      "cell_type": "code",
      "source": [
        "df['hotel_cluster'].unique()"
      ],
      "metadata": {
        "colab": {
          "base_uri": "https://localhost:8080/"
        },
        "id": "nQeOUyFlWpeO",
        "outputId": "99de2496-f3d0-4413-cb81-e19fd3466663"
      },
      "execution_count": 32,
      "outputs": [
        {
          "output_type": "execute_result",
          "data": {
            "text/plain": [
              "array([68, 37, 22, 42, 54,  6,  1, 78, 50, 11,  9, 69, 55, 92, 46, 94, 12,\n",
              "       79, 40, 33,  0, 34, 75, 80,  5, 77, 45, 90, 62, 64, 87, 65, 36, 19,\n",
              "       89, 28, 21, 91, 23, 56, 59, 57, 15,  3, 98, 31, 83, 17, 67, 47, 85,\n",
              "       32, 71, 96, 18, 93, 76, 16, 84, 10, 39,  7, 38,  8, 66, 82,  2, 73,\n",
              "       44, 25, 74, 99, 95, 48, 51, 30, 58,  4, 88, 63, 43, 72, 61, 60, 26,\n",
              "       14, 52, 20, 53, 41, 97, 86, 81, 49, 70, 29, 24, 13, 35, 27])"
            ]
          },
          "metadata": {},
          "execution_count": 32
        }
      ]
    },
    {
      "cell_type": "code",
      "source": [
        "df['posa_continent'].unique()"
      ],
      "metadata": {
        "colab": {
          "base_uri": "https://localhost:8080/"
        },
        "id": "KOpRC2OvWvHc",
        "outputId": "cebbe1b6-c3c1-4fd1-fbf6-8b093bbae103"
      },
      "execution_count": 33,
      "outputs": [
        {
          "output_type": "execute_result",
          "data": {
            "text/plain": [
              "array([2, 3, 1, 0, 4])"
            ]
          },
          "metadata": {},
          "execution_count": 33
        }
      ]
    },
    {
      "cell_type": "code",
      "source": [
        "df.drop(columns = ['Unnamed: 0','site_name','posa_continent','user_location_region','user_location_city','user_id','srch_destination_id','srch_destination_type_id','hotel_market','date_time','srch_ci','srch_co'],axis = 1,inplace = True)"
      ],
      "metadata": {
        "id": "F4vfz16jXONk"
      },
      "execution_count": 34,
      "outputs": []
    },
    {
      "cell_type": "code",
      "source": [
        "df.head(3)"
      ],
      "metadata": {
        "colab": {
          "base_uri": "https://localhost:8080/",
          "height": 163
        },
        "id": "gj7XjYe7Xl5S",
        "outputId": "0fcb08e2-06ab-42dc-daec-33de1c3026b2"
      },
      "execution_count": 35,
      "outputs": [
        {
          "output_type": "execute_result",
          "data": {
            "text/plain": [
              "   user_location_country  orig_destination_distance  is_mobile  is_package  \\\n",
              "0                     77                   456.1151          0           1   \n",
              "1                    205                   232.4737          0           0   \n",
              "2                     66                  4468.2720          0           1   \n",
              "\n",
              "   channel  srch_adults_cnt  srch_children_cnt  srch_rm_cnt  is_booking  cnt  \\\n",
              "0        1                2                  0            1           0    1   \n",
              "1        9                2                  0            1           0    1   \n",
              "2        9                2                  0            1           0    1   \n",
              "\n",
              "   hotel_continent  hotel_country  hotel_cluster  \n",
              "0                0             63             68  \n",
              "1                2            198             37  \n",
              "2                6            105             22  "
            ],
            "text/html": [
              "\n",
              "  <div id=\"df-d638fbfe-eff7-4f07-9058-615267bbfb29\" class=\"colab-df-container\">\n",
              "    <div>\n",
              "<style scoped>\n",
              "    .dataframe tbody tr th:only-of-type {\n",
              "        vertical-align: middle;\n",
              "    }\n",
              "\n",
              "    .dataframe tbody tr th {\n",
              "        vertical-align: top;\n",
              "    }\n",
              "\n",
              "    .dataframe thead th {\n",
              "        text-align: right;\n",
              "    }\n",
              "</style>\n",
              "<table border=\"1\" class=\"dataframe\">\n",
              "  <thead>\n",
              "    <tr style=\"text-align: right;\">\n",
              "      <th></th>\n",
              "      <th>user_location_country</th>\n",
              "      <th>orig_destination_distance</th>\n",
              "      <th>is_mobile</th>\n",
              "      <th>is_package</th>\n",
              "      <th>channel</th>\n",
              "      <th>srch_adults_cnt</th>\n",
              "      <th>srch_children_cnt</th>\n",
              "      <th>srch_rm_cnt</th>\n",
              "      <th>is_booking</th>\n",
              "      <th>cnt</th>\n",
              "      <th>hotel_continent</th>\n",
              "      <th>hotel_country</th>\n",
              "      <th>hotel_cluster</th>\n",
              "    </tr>\n",
              "  </thead>\n",
              "  <tbody>\n",
              "    <tr>\n",
              "      <th>0</th>\n",
              "      <td>77</td>\n",
              "      <td>456.1151</td>\n",
              "      <td>0</td>\n",
              "      <td>1</td>\n",
              "      <td>1</td>\n",
              "      <td>2</td>\n",
              "      <td>0</td>\n",
              "      <td>1</td>\n",
              "      <td>0</td>\n",
              "      <td>1</td>\n",
              "      <td>0</td>\n",
              "      <td>63</td>\n",
              "      <td>68</td>\n",
              "    </tr>\n",
              "    <tr>\n",
              "      <th>1</th>\n",
              "      <td>205</td>\n",
              "      <td>232.4737</td>\n",
              "      <td>0</td>\n",
              "      <td>0</td>\n",
              "      <td>9</td>\n",
              "      <td>2</td>\n",
              "      <td>0</td>\n",
              "      <td>1</td>\n",
              "      <td>0</td>\n",
              "      <td>1</td>\n",
              "      <td>2</td>\n",
              "      <td>198</td>\n",
              "      <td>37</td>\n",
              "    </tr>\n",
              "    <tr>\n",
              "      <th>2</th>\n",
              "      <td>66</td>\n",
              "      <td>4468.2720</td>\n",
              "      <td>0</td>\n",
              "      <td>1</td>\n",
              "      <td>9</td>\n",
              "      <td>2</td>\n",
              "      <td>0</td>\n",
              "      <td>1</td>\n",
              "      <td>0</td>\n",
              "      <td>1</td>\n",
              "      <td>6</td>\n",
              "      <td>105</td>\n",
              "      <td>22</td>\n",
              "    </tr>\n",
              "  </tbody>\n",
              "</table>\n",
              "</div>\n",
              "    <div class=\"colab-df-buttons\">\n",
              "\n",
              "  <div class=\"colab-df-container\">\n",
              "    <button class=\"colab-df-convert\" onclick=\"convertToInteractive('df-d638fbfe-eff7-4f07-9058-615267bbfb29')\"\n",
              "            title=\"Convert this dataframe to an interactive table.\"\n",
              "            style=\"display:none;\">\n",
              "\n",
              "  <svg xmlns=\"http://www.w3.org/2000/svg\" height=\"24px\" viewBox=\"0 -960 960 960\">\n",
              "    <path d=\"M120-120v-720h720v720H120Zm60-500h600v-160H180v160Zm220 220h160v-160H400v160Zm0 220h160v-160H400v160ZM180-400h160v-160H180v160Zm440 0h160v-160H620v160ZM180-180h160v-160H180v160Zm440 0h160v-160H620v160Z\"/>\n",
              "  </svg>\n",
              "    </button>\n",
              "\n",
              "  <style>\n",
              "    .colab-df-container {\n",
              "      display:flex;\n",
              "      gap: 12px;\n",
              "    }\n",
              "\n",
              "    .colab-df-convert {\n",
              "      background-color: #E8F0FE;\n",
              "      border: none;\n",
              "      border-radius: 50%;\n",
              "      cursor: pointer;\n",
              "      display: none;\n",
              "      fill: #1967D2;\n",
              "      height: 32px;\n",
              "      padding: 0 0 0 0;\n",
              "      width: 32px;\n",
              "    }\n",
              "\n",
              "    .colab-df-convert:hover {\n",
              "      background-color: #E2EBFA;\n",
              "      box-shadow: 0px 1px 2px rgba(60, 64, 67, 0.3), 0px 1px 3px 1px rgba(60, 64, 67, 0.15);\n",
              "      fill: #174EA6;\n",
              "    }\n",
              "\n",
              "    .colab-df-buttons div {\n",
              "      margin-bottom: 4px;\n",
              "    }\n",
              "\n",
              "    [theme=dark] .colab-df-convert {\n",
              "      background-color: #3B4455;\n",
              "      fill: #D2E3FC;\n",
              "    }\n",
              "\n",
              "    [theme=dark] .colab-df-convert:hover {\n",
              "      background-color: #434B5C;\n",
              "      box-shadow: 0px 1px 3px 1px rgba(0, 0, 0, 0.15);\n",
              "      filter: drop-shadow(0px 1px 2px rgba(0, 0, 0, 0.3));\n",
              "      fill: #FFFFFF;\n",
              "    }\n",
              "  </style>\n",
              "\n",
              "    <script>\n",
              "      const buttonEl =\n",
              "        document.querySelector('#df-d638fbfe-eff7-4f07-9058-615267bbfb29 button.colab-df-convert');\n",
              "      buttonEl.style.display =\n",
              "        google.colab.kernel.accessAllowed ? 'block' : 'none';\n",
              "\n",
              "      async function convertToInteractive(key) {\n",
              "        const element = document.querySelector('#df-d638fbfe-eff7-4f07-9058-615267bbfb29');\n",
              "        const dataTable =\n",
              "          await google.colab.kernel.invokeFunction('convertToInteractive',\n",
              "                                                    [key], {});\n",
              "        if (!dataTable) return;\n",
              "\n",
              "        const docLinkHtml = 'Like what you see? Visit the ' +\n",
              "          '<a target=\"_blank\" href=https://colab.research.google.com/notebooks/data_table.ipynb>data table notebook</a>'\n",
              "          + ' to learn more about interactive tables.';\n",
              "        element.innerHTML = '';\n",
              "        dataTable['output_type'] = 'display_data';\n",
              "        await google.colab.output.renderOutput(dataTable, element);\n",
              "        const docLink = document.createElement('div');\n",
              "        docLink.innerHTML = docLinkHtml;\n",
              "        element.appendChild(docLink);\n",
              "      }\n",
              "    </script>\n",
              "  </div>\n",
              "\n",
              "\n",
              "<div id=\"df-e44b5b2d-3184-43d4-bee3-c8c3b0d0b9fd\">\n",
              "  <button class=\"colab-df-quickchart\" onclick=\"quickchart('df-e44b5b2d-3184-43d4-bee3-c8c3b0d0b9fd')\"\n",
              "            title=\"Suggest charts\"\n",
              "            style=\"display:none;\">\n",
              "\n",
              "<svg xmlns=\"http://www.w3.org/2000/svg\" height=\"24px\"viewBox=\"0 0 24 24\"\n",
              "     width=\"24px\">\n",
              "    <g>\n",
              "        <path d=\"M19 3H5c-1.1 0-2 .9-2 2v14c0 1.1.9 2 2 2h14c1.1 0 2-.9 2-2V5c0-1.1-.9-2-2-2zM9 17H7v-7h2v7zm4 0h-2V7h2v10zm4 0h-2v-4h2v4z\"/>\n",
              "    </g>\n",
              "</svg>\n",
              "  </button>\n",
              "\n",
              "<style>\n",
              "  .colab-df-quickchart {\n",
              "      --bg-color: #E8F0FE;\n",
              "      --fill-color: #1967D2;\n",
              "      --hover-bg-color: #E2EBFA;\n",
              "      --hover-fill-color: #174EA6;\n",
              "      --disabled-fill-color: #AAA;\n",
              "      --disabled-bg-color: #DDD;\n",
              "  }\n",
              "\n",
              "  [theme=dark] .colab-df-quickchart {\n",
              "      --bg-color: #3B4455;\n",
              "      --fill-color: #D2E3FC;\n",
              "      --hover-bg-color: #434B5C;\n",
              "      --hover-fill-color: #FFFFFF;\n",
              "      --disabled-bg-color: #3B4455;\n",
              "      --disabled-fill-color: #666;\n",
              "  }\n",
              "\n",
              "  .colab-df-quickchart {\n",
              "    background-color: var(--bg-color);\n",
              "    border: none;\n",
              "    border-radius: 50%;\n",
              "    cursor: pointer;\n",
              "    display: none;\n",
              "    fill: var(--fill-color);\n",
              "    height: 32px;\n",
              "    padding: 0;\n",
              "    width: 32px;\n",
              "  }\n",
              "\n",
              "  .colab-df-quickchart:hover {\n",
              "    background-color: var(--hover-bg-color);\n",
              "    box-shadow: 0 1px 2px rgba(60, 64, 67, 0.3), 0 1px 3px 1px rgba(60, 64, 67, 0.15);\n",
              "    fill: var(--button-hover-fill-color);\n",
              "  }\n",
              "\n",
              "  .colab-df-quickchart-complete:disabled,\n",
              "  .colab-df-quickchart-complete:disabled:hover {\n",
              "    background-color: var(--disabled-bg-color);\n",
              "    fill: var(--disabled-fill-color);\n",
              "    box-shadow: none;\n",
              "  }\n",
              "\n",
              "  .colab-df-spinner {\n",
              "    border: 2px solid var(--fill-color);\n",
              "    border-color: transparent;\n",
              "    border-bottom-color: var(--fill-color);\n",
              "    animation:\n",
              "      spin 1s steps(1) infinite;\n",
              "  }\n",
              "\n",
              "  @keyframes spin {\n",
              "    0% {\n",
              "      border-color: transparent;\n",
              "      border-bottom-color: var(--fill-color);\n",
              "      border-left-color: var(--fill-color);\n",
              "    }\n",
              "    20% {\n",
              "      border-color: transparent;\n",
              "      border-left-color: var(--fill-color);\n",
              "      border-top-color: var(--fill-color);\n",
              "    }\n",
              "    30% {\n",
              "      border-color: transparent;\n",
              "      border-left-color: var(--fill-color);\n",
              "      border-top-color: var(--fill-color);\n",
              "      border-right-color: var(--fill-color);\n",
              "    }\n",
              "    40% {\n",
              "      border-color: transparent;\n",
              "      border-right-color: var(--fill-color);\n",
              "      border-top-color: var(--fill-color);\n",
              "    }\n",
              "    60% {\n",
              "      border-color: transparent;\n",
              "      border-right-color: var(--fill-color);\n",
              "    }\n",
              "    80% {\n",
              "      border-color: transparent;\n",
              "      border-right-color: var(--fill-color);\n",
              "      border-bottom-color: var(--fill-color);\n",
              "    }\n",
              "    90% {\n",
              "      border-color: transparent;\n",
              "      border-bottom-color: var(--fill-color);\n",
              "    }\n",
              "  }\n",
              "</style>\n",
              "\n",
              "  <script>\n",
              "    async function quickchart(key) {\n",
              "      const quickchartButtonEl =\n",
              "        document.querySelector('#' + key + ' button');\n",
              "      quickchartButtonEl.disabled = true;  // To prevent multiple clicks.\n",
              "      quickchartButtonEl.classList.add('colab-df-spinner');\n",
              "      try {\n",
              "        const charts = await google.colab.kernel.invokeFunction(\n",
              "            'suggestCharts', [key], {});\n",
              "      } catch (error) {\n",
              "        console.error('Error during call to suggestCharts:', error);\n",
              "      }\n",
              "      quickchartButtonEl.classList.remove('colab-df-spinner');\n",
              "      quickchartButtonEl.classList.add('colab-df-quickchart-complete');\n",
              "    }\n",
              "    (() => {\n",
              "      let quickchartButtonEl =\n",
              "        document.querySelector('#df-e44b5b2d-3184-43d4-bee3-c8c3b0d0b9fd button');\n",
              "      quickchartButtonEl.style.display =\n",
              "        google.colab.kernel.accessAllowed ? 'block' : 'none';\n",
              "    })();\n",
              "  </script>\n",
              "</div>\n",
              "\n",
              "    </div>\n",
              "  </div>\n"
            ],
            "application/vnd.google.colaboratory.intrinsic+json": {
              "type": "dataframe",
              "variable_name": "df",
              "summary": "{\n  \"name\": \"df\",\n  \"rows\": 63845,\n  \"fields\": [\n    {\n      \"column\": \"user_location_country\",\n      \"properties\": {\n        \"dtype\": \"number\",\n        \"std\": 54,\n        \"min\": 0,\n        \"max\": 215,\n        \"num_unique_values\": 17,\n        \"samples\": [\n          77,\n          205,\n          215\n        ],\n        \"semantic_type\": \"\",\n        \"description\": \"\"\n      }\n    },\n    {\n      \"column\": \"orig_destination_distance\",\n      \"properties\": {\n        \"dtype\": \"number\",\n        \"std\": 2227.828839720794,\n        \"min\": 0.0056,\n        \"max\": 11965.3761,\n        \"num_unique_values\": 62137,\n        \"samples\": [\n          232.5205,\n          540.7446,\n          9257.7549\n        ],\n        \"semantic_type\": \"\",\n        \"description\": \"\"\n      }\n    },\n    {\n      \"column\": \"is_mobile\",\n      \"properties\": {\n        \"dtype\": \"number\",\n        \"std\": 0,\n        \"min\": 0,\n        \"max\": 1,\n        \"num_unique_values\": 2,\n        \"samples\": [\n          1,\n          0\n        ],\n        \"semantic_type\": \"\",\n        \"description\": \"\"\n      }\n    },\n    {\n      \"column\": \"is_package\",\n      \"properties\": {\n        \"dtype\": \"number\",\n        \"std\": 0,\n        \"min\": 0,\n        \"max\": 1,\n        \"num_unique_values\": 2,\n        \"samples\": [\n          0,\n          1\n        ],\n        \"semantic_type\": \"\",\n        \"description\": \"\"\n      }\n    },\n    {\n      \"column\": \"channel\",\n      \"properties\": {\n        \"dtype\": \"number\",\n        \"std\": 3,\n        \"min\": 0,\n        \"max\": 10,\n        \"num_unique_values\": 11,\n        \"samples\": [\n          3,\n          1\n        ],\n        \"semantic_type\": \"\",\n        \"description\": \"\"\n      }\n    },\n    {\n      \"column\": \"srch_adults_cnt\",\n      \"properties\": {\n        \"dtype\": \"number\",\n        \"std\": 0,\n        \"min\": 0,\n        \"max\": 9,\n        \"num_unique_values\": 10,\n        \"samples\": [\n          0,\n          1\n        ],\n        \"semantic_type\": \"\",\n        \"description\": \"\"\n      }\n    },\n    {\n      \"column\": \"srch_children_cnt\",\n      \"properties\": {\n        \"dtype\": \"number\",\n        \"std\": 0,\n        \"min\": 0,\n        \"max\": 9,\n        \"num_unique_values\": 10,\n        \"samples\": [\n          9,\n          1\n        ],\n        \"semantic_type\": \"\",\n        \"description\": \"\"\n      }\n    },\n    {\n      \"column\": \"srch_rm_cnt\",\n      \"properties\": {\n        \"dtype\": \"number\",\n        \"std\": 0,\n        \"min\": 1,\n        \"max\": 8,\n        \"num_unique_values\": 8,\n        \"samples\": [\n          2,\n          5\n        ],\n        \"semantic_type\": \"\",\n        \"description\": \"\"\n      }\n    },\n    {\n      \"column\": \"is_booking\",\n      \"properties\": {\n        \"dtype\": \"number\",\n        \"std\": 0,\n        \"min\": 0,\n        \"max\": 1,\n        \"num_unique_values\": 2,\n        \"samples\": [\n          1,\n          0\n        ],\n        \"semantic_type\": \"\",\n        \"description\": \"\"\n      }\n    },\n    {\n      \"column\": \"cnt\",\n      \"properties\": {\n        \"dtype\": \"number\",\n        \"std\": 1,\n        \"min\": 1,\n        \"max\": 35,\n        \"num_unique_values\": 29,\n        \"samples\": [\n          30,\n          14\n        ],\n        \"semantic_type\": \"\",\n        \"description\": \"\"\n      }\n    },\n    {\n      \"column\": \"hotel_continent\",\n      \"properties\": {\n        \"dtype\": \"number\",\n        \"std\": 1,\n        \"min\": 0,\n        \"max\": 6,\n        \"num_unique_values\": 6,\n        \"samples\": [\n          0,\n          2\n        ],\n        \"semantic_type\": \"\",\n        \"description\": \"\"\n      }\n    },\n    {\n      \"column\": \"hotel_country\",\n      \"properties\": {\n        \"dtype\": \"number\",\n        \"std\": 53,\n        \"min\": 0,\n        \"max\": 212,\n        \"num_unique_values\": 161,\n        \"samples\": [\n          153,\n          147\n        ],\n        \"semantic_type\": \"\",\n        \"description\": \"\"\n      }\n    },\n    {\n      \"column\": \"hotel_cluster\",\n      \"properties\": {\n        \"dtype\": \"number\",\n        \"std\": 29,\n        \"min\": 0,\n        \"max\": 99,\n        \"num_unique_values\": 100,\n        \"samples\": [\n          60,\n          96\n        ],\n        \"semantic_type\": \"\",\n        \"description\": \"\"\n      }\n    }\n  ]\n}"
            }
          },
          "metadata": {},
          "execution_count": 35
        }
      ]
    },
    {
      "cell_type": "code",
      "source": [
        "df.info()"
      ],
      "metadata": {
        "colab": {
          "base_uri": "https://localhost:8080/"
        },
        "id": "mDWE8MNkXpU0",
        "outputId": "c584771c-ec96-4754-9fa8-6d437e10189e"
      },
      "execution_count": 36,
      "outputs": [
        {
          "output_type": "stream",
          "name": "stdout",
          "text": [
            "<class 'pandas.core.frame.DataFrame'>\n",
            "Index: 63845 entries, 0 to 99999\n",
            "Data columns (total 13 columns):\n",
            " #   Column                     Non-Null Count  Dtype  \n",
            "---  ------                     --------------  -----  \n",
            " 0   user_location_country      63845 non-null  int64  \n",
            " 1   orig_destination_distance  63845 non-null  float64\n",
            " 2   is_mobile                  63845 non-null  int64  \n",
            " 3   is_package                 63845 non-null  int64  \n",
            " 4   channel                    63845 non-null  int64  \n",
            " 5   srch_adults_cnt            63845 non-null  int64  \n",
            " 6   srch_children_cnt          63845 non-null  int64  \n",
            " 7   srch_rm_cnt                63845 non-null  int64  \n",
            " 8   is_booking                 63845 non-null  int64  \n",
            " 9   cnt                        63845 non-null  int64  \n",
            " 10  hotel_continent            63845 non-null  int64  \n",
            " 11  hotel_country              63845 non-null  int64  \n",
            " 12  hotel_cluster              63845 non-null  int64  \n",
            "dtypes: float64(1), int64(12)\n",
            "memory usage: 6.8 MB\n"
          ]
        }
      ]
    },
    {
      "cell_type": "markdown",
      "source": [
        "Training"
      ],
      "metadata": {
        "id": "oViEi982Yz-N"
      }
    },
    {
      "cell_type": "code",
      "source": [
        "y=df[\"is_booking\"]\n",
        "x=df.drop(\"is_booking\", axis=1)"
      ],
      "metadata": {
        "id": "uHPhLQ3IYyIw"
      },
      "execution_count": 37,
      "outputs": []
    },
    {
      "cell_type": "code",
      "source": [
        "from sklearn.model_selection import train_test_split\n",
        "x_train, x_test, y_train, y_test = train_test_split(x, y, test_size=0.33, random_state=42)"
      ],
      "metadata": {
        "id": "gHcYASfYY2zW"
      },
      "execution_count": 39,
      "outputs": []
    },
    {
      "cell_type": "markdown",
      "source": [
        "Normalisasi"
      ],
      "metadata": {
        "id": "-bRA1ma9ZFnj"
      }
    },
    {
      "cell_type": "code",
      "source": [
        "from sklearn.preprocessing import StandardScaler\n",
        "\n",
        "sc = StandardScaler()\n",
        "X_train = sc.fit_transform(x_train)\n",
        "X_test = sc.transform(x_test)"
      ],
      "metadata": {
        "id": "khPfs43UZWYI"
      },
      "execution_count": 41,
      "outputs": []
    },
    {
      "cell_type": "markdown",
      "source": [
        "Model"
      ],
      "metadata": {
        "id": "pGJ3kr-eZjEz"
      }
    },
    {
      "cell_type": "code",
      "source": [
        "from sklearn.ensemble import RandomForestClassifier\n",
        "from sklearn.metrics import accuracy_score, classification_report\n",
        "\n",
        "# Inisialisasi model Random Forest\n",
        "random_forest_model = RandomForestClassifier()\n",
        "\n",
        "# Melatih model dengan data training\n",
        "random_forest_model.fit(X_train, y_train)\n",
        "\n",
        "# Melakukan prediksi pada data testing\n",
        "y_pred = random_forest_model.predict(X_test)\n",
        "\n",
        "# Menghitung dan mencetak skor akurasi\n",
        "accuracy = accuracy_score(y_test, y_pred)\n",
        "print(\"Accuracy Score:\", accuracy)\n",
        "\n",
        "# Menampilkan classification report\n",
        "print(\"\\nClassification Report:\")\n",
        "print(classification_report(y_test, y_pred))"
      ],
      "metadata": {
        "colab": {
          "base_uri": "https://localhost:8080/"
        },
        "id": "k5w3zodZZhyU",
        "outputId": "e9135a21-d2cd-4375-cfd0-3880d11b0860"
      },
      "execution_count": 42,
      "outputs": [
        {
          "output_type": "stream",
          "name": "stdout",
          "text": [
            "Accuracy Score: 0.9064502349423323\n",
            "\n",
            "Classification Report:\n",
            "              precision    recall  f1-score   support\n",
            "\n",
            "           0       0.92      0.98      0.95     19324\n",
            "           1       0.21      0.05      0.08      1745\n",
            "\n",
            "    accuracy                           0.91     21069\n",
            "   macro avg       0.57      0.52      0.51     21069\n",
            "weighted avg       0.86      0.91      0.88     21069\n",
            "\n"
          ]
        }
      ]
    },
    {
      "cell_type": "markdown",
      "source": [
        "Tuning"
      ],
      "metadata": {
        "id": "EVTPzapHc1Iy"
      }
    },
    {
      "cell_type": "code",
      "source": [
        "from sklearn.ensemble import RandomForestClassifier\n",
        "from sklearn.model_selection import RandomizedSearchCV\n",
        "from sklearn.metrics import accuracy_score, classification_report\n",
        "from sklearn.utils.class_weight import compute_class_weight\n",
        "import numpy as np\n",
        "\n",
        "# Mengatur parameter grid tanpa 'auto'\n",
        "param_grid = {\n",
        "    'n_estimators': [50, 100],          # Jumlah pohon\n",
        "    'max_depth': [10, 20, None],        # Kedalaman maksimum\n",
        "    'min_samples_split': [2, 5],        # Minimum sampel untuk split\n",
        "    'min_samples_leaf': [1, 2],         # Minimum sampel di leaf\n",
        "    'max_features': ['sqrt', 'log2'],   # Opsi valid untuk max_features\n",
        "    'class_weight': [None, 'balanced']  # Menangani ketidakseimbangan\n",
        "}\n",
        "\n",
        "# Inisialisasi RandomizedSearchCV\n",
        "random_search = RandomizedSearchCV(\n",
        "    estimator=RandomForestClassifier(random_state=42),\n",
        "    param_distributions=param_grid,\n",
        "    n_iter=10,               # Kurangi iterasi untuk mempercepat\n",
        "    scoring='accuracy',\n",
        "    cv=3,\n",
        "    verbose=2,\n",
        "    random_state=42,\n",
        "    n_jobs=2\n",
        ")\n",
        "\n",
        "# Melatih model\n",
        "random_search.fit(X_train, y_train)\n",
        "\n",
        "# Model terbaik berdasarkan hasil tuning\n",
        "best_model = random_search.best_estimator_\n",
        "\n",
        "# Melakukan prediksi\n",
        "y_pred = best_model.predict(X_test)\n",
        "\n",
        "# Evaluasi model\n",
        "accuracy = accuracy_score(y_test, y_pred)\n",
        "print(\"\\nAccuracy Score:\", accuracy)\n",
        "\n",
        "# Menampilkan classification report dengan zero_division=0\n",
        "print(\"\\nClassification Report:\")\n",
        "print(classification_report(y_test, y_pred, zero_division=0))"
      ],
      "metadata": {
        "colab": {
          "base_uri": "https://localhost:8080/"
        },
        "id": "FdPIuf6SaHn7",
        "outputId": "af586f89-16c7-47bf-948d-61c6f7776187"
      },
      "execution_count": 47,
      "outputs": [
        {
          "output_type": "stream",
          "name": "stdout",
          "text": [
            "Fitting 3 folds for each of 10 candidates, totalling 30 fits\n",
            "\n",
            "Accuracy Score: 0.9171768949641653\n",
            "\n",
            "Classification Report:\n",
            "              precision    recall  f1-score   support\n",
            "\n",
            "           0       0.92      1.00      0.96     19324\n",
            "           1       0.00      0.00      0.00      1745\n",
            "\n",
            "    accuracy                           0.92     21069\n",
            "   macro avg       0.46      0.50      0.48     21069\n",
            "weighted avg       0.84      0.92      0.88     21069\n",
            "\n"
          ]
        }
      ]
    },
    {
      "cell_type": "markdown",
      "source": [
        "Target Value (is_booking) dan Distance Distribution"
      ],
      "metadata": {
        "id": "U8cc-jUBc-Kw"
      }
    },
    {
      "cell_type": "code",
      "source": [
        "plt.figure(figsize=(10, 6))\n",
        "plt.scatter(\n",
        "    df['orig_destination_distance'],\n",
        "    df['is_booking'],\n",
        "    c=df['is_booking'],\n",
        "    cmap='viridis',\n",
        "    alpha=0.7,\n",
        "    edgecolors='k'\n",
        ")\n",
        "\n",
        "\n",
        "plt.title(\"Target Value (is_booking) and Distance Distribution\")\n",
        "plt.xlabel(\"Orig Destination Distance\")\n",
        "plt.ylabel(\"Is Booking\")\n",
        "plt.colorbar(label=\"Booking Status\")\n",
        "plt.show()"
      ],
      "metadata": {
        "colab": {
          "base_uri": "https://localhost:8080/",
          "height": 564
        },
        "id": "TMJow4WFcZXu",
        "outputId": "9285f3db-41d9-41d2-e8cc-8995055e4e0e"
      },
      "execution_count": 48,
      "outputs": [
        {
          "output_type": "display_data",
          "data": {
            "text/plain": [
              "<Figure size 1000x600 with 2 Axes>"
            ],
            "image/png": "[encoded data removed]"
          },
          "metadata": {}
        }
      ]
    },
    {
      "cell_type": "markdown",
      "source": [
        "Grafik menunjukkan hubungan antara jarak asal ke tujuan dengan status pemesanan (is_booking). Pemesanan lebih sering terjadi pada jarak pendek hingga menengah, yang ditunjukkan oleh konsentrasi data di bagian awal sumbu X. Sementara itu, pemesanan pada jarak yang sangat jauh (>10.000) jarang terjadi dan terlihat sebagai outliers. Hal ini mengindikasikan bahwa jarak memiliki pengaruh signifikan terhadap keputusan pemesanan, dengan tren yang lebih mendukung destinasi jarak pendek. Data ini relevan untuk strategi pemasaran, khususnya dalam mendorong pemesanan jarak jauh."
      ],
      "metadata": {
        "id": "A5iG2qUdfOnX"
      }
    },
    {
      "cell_type": "markdown",
      "source": [
        "Total Number of Reservations by Booking Status"
      ],
      "metadata": {
        "id": "i5kqB2EIdBz_"
      }
    },
    {
      "cell_type": "code",
      "source": [
        "grouped_df = df.groupby('is_booking')['cnt'].sum()\n",
        "\n",
        "\n",
        "plt.figure(figsize=(10, 6))\n",
        "plt.plot(grouped_df.index, grouped_df.values, marker='o', linestyle='-', color='b')\n",
        "\n",
        "\n",
        "plt.title(\"Total Number of Reservations by Booking Status\")\n",
        "plt.xlabel(\"Is Booking (0 = No, 1 = Yes)\")\n",
        "plt.ylabel(\"Total Reservations (cnt)\")\n",
        "plt.xticks([0, 1], labels=[\"No\", \"Yes\"])\n",
        "plt.grid(alpha=0.5)\n",
        "plt.show()"
      ],
      "metadata": {
        "colab": {
          "base_uri": "https://localhost:8080/",
          "height": 564
        },
        "id": "6uXCmZWUcaOY",
        "outputId": "8041a644-7787-46f9-9c61-2b61456d2b76"
      },
      "execution_count": 49,
      "outputs": [
        {
          "output_type": "display_data",
          "data": {
            "text/plain": [
              "<Figure size 1000x600 with 1 Axes>"
            ],
            "image/png": "[encoded data removed]"
          },
          "metadata": {}
        }
      ]
    },
    {
      "cell_type": "markdown",
      "source": [
        "Grafik menunjukkan total jumlah reservasi berdasarkan status pemesanan (is_booking). Sebagian besar data didominasi oleh status \"No\" (tidak ada pemesanan), dengan lebih dari 80.000 reservasi yang tidak berlanjut menjadi booking. Sebaliknya, jumlah pemesanan berhasil (\"Yes\") jauh lebih sedikit. Hal ini mengindikasikan adanya tingkat konversi yang rendah, yang mungkin disebabkan oleh faktor seperti jarak, harga, atau preferensi pelanggan. Analisis lebih lanjut diperlukan untuk mengidentifikasi penyebab dan meningkatkan konversi."
      ],
      "metadata": {
        "id": "z811wCzQfefy"
      }
    },
    {
      "cell_type": "markdown",
      "source": [
        "Total Reservations by Hotel Country"
      ],
      "metadata": {
        "id": "XCXVUgZvdE0k"
      }
    },
    {
      "cell_type": "code",
      "source": [
        "grouped_df = df.groupby('hotel_country')['cnt'].sum()\n",
        "\n",
        "\n",
        "plt.figure(figsize=(12, 6))\n",
        "plt.plot(grouped_df.index, grouped_df.values, marker='o', linestyle='-', color='g')\n",
        "\n",
        "\n",
        "plt.title(\"Total Reservations by Hotel Country\")\n",
        "plt.xlabel(\"Hotel Country\")\n",
        "plt.ylabel(\"Total Reservations (cnt)\")\n",
        "plt.grid(alpha=0.5)\n",
        "plt.xticks(rotation=45, ha='right')\n",
        "plt.show()"
      ],
      "metadata": {
        "colab": {
          "base_uri": "https://localhost:8080/",
          "height": 579
        },
        "id": "mKVM4Uwjccwh",
        "outputId": "305552ad-1f96-427c-8861-b954100bf6c5"
      },
      "execution_count": 50,
      "outputs": [
        {
          "output_type": "display_data",
          "data": {
            "text/plain": [
              "<Figure size 1200x600 with 1 Axes>"
            ],
            "image/png": "[encoded data removed]"
          },
          "metadata": {}
        }
      ]
    },
    {
      "cell_type": "markdown",
      "source": [
        "Grafik menunjukkan distribusi total reservasi berdasarkan negara hotel (Hotel Country). Terlihat bahwa mayoritas reservasi terkonsentrasi di satu negara tertentu (dengan kode sekitar 50), yang memiliki lebih dari 50.000 reservasi. Negara-negara lainnya memiliki jumlah reservasi yang jauh lebih kecil, bahkan mendekati nol untuk sebagian besar. Hal ini mengindikasikan bahwa satu negara mendominasi pemesanan hotel, yang mungkin disebabkan oleh popularitas tujuan wisata atau jumlah hotel yang lebih tinggi dibandingkan negara lain. Analisis lebih lanjut dapat dilakukan untuk memahami faktor-faktor yang memengaruhi dominasi ini."
      ],
      "metadata": {
        "id": "xvL07TTIfpER"
      }
    }
  ]
}